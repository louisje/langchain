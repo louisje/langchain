{
 "cells": [
  {
   "cell_type": "raw",
   "id": "afaf8039",
   "metadata": {
    "id": "afaf8039"
   },
   "source": [
    "---\n",
    "sidebar_label: Nimble\n",
    "---"
   ]
  },
  {
   "cell_type": "markdown",
   "id": "72ee0c4b-9764-423a-9dbf-95129e185210",
   "metadata": {
    "id": "72ee0c4b-9764-423a-9dbf-95129e185210"
   },
   "source": [
    "# Nimbleway\n",
    "\n",
    "  [Nimble](https://www.linkedin.com/company/nimbledata) is the first business external data platform, making data decision-making easier than ever, with our award-winning AI-powered data structuring technology Nimble connects business users with the public web knowledge.\n",
    "We empower businesses with mission-critical real-time external data to unlock advanced business intelligence, price comparison, and other public data for sales and marketing. We translate data into immediate business value.\n",
    "\n",
    "If you'd like to learn more about Nimble, visit us at [nimbleway.com](https://www.nimbleway.com/).\n",
    "\n",
    "\n",
    "## Currently we expose the following components\n",
    "\n",
    "*   **Retriever** - Allow us to query the internet and get parsed textual results utilizing several search engines.\n",
    "\n",
    "\n"
   ]
  },
  {
   "cell_type": "markdown",
   "source": [
    "## Usage"
   ],
   "metadata": {
    "id": "AuMFgVFrKbNH"
   },
   "id": "AuMFgVFrKbNH"
  },
  {
   "cell_type": "markdown",
   "source": [
    "In order to use our provider you have to provide an API key like so"
   ],
   "metadata": {
    "id": "sFlPjZX9KdK6"
   },
   "id": "sFlPjZX9KdK6"
  },
  {
   "cell_type": "code",
   "source": [
    "import getpass\n",
    "import os\n",
    "\n",
    "os.environ[\"NIMBLE_API_KEY\"] = getpass.getpass()"
   ],
   "metadata": {
    "id": "eAqSHZ-Z8R3F"
   },
   "id": "eAqSHZ-Z8R3F",
   "execution_count": null,
   "outputs": []
  },
  {
   "cell_type": "markdown",
   "source": [
    "For more information about the Authentication process, see [Nimble APIs Authentication Documentation](https://docs.nimbleway.com/nimble-sdk/web-api/nimble-web-api-quick-start-guide/nimble-apis-authentication)."
   ],
   "metadata": {
    "id": "WfwnI_RS8PO5"
   },
   "id": "WfwnI_RS8PO5"
  }
 ],
 "metadata": {
  "kernelspec": {
   "display_name": "Python 3 (ipykernel)",
   "language": "python",
   "name": "python3"
  },
  "language_info": {
   "codemirror_mode": {
    "name": "ipython",
    "version": 3
   },
   "file_extension": ".py",
   "mimetype": "text/x-python",
   "name": "python",
   "nbconvert_exporter": "python",
   "pygments_lexer": "ipython3",
   "version": "3.10.4"
  },
  "colab": {
   "provenance": []
  }
 },
 "nbformat": 4,
 "nbformat_minor": 5
}
